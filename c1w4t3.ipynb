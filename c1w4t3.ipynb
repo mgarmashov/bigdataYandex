{
 "cells": [
  {
   "cell_type": "code",
   "execution_count": null,
   "metadata": {},
   "outputs": [],
   "source": [
    "import pandas as pd\n",
    "import numpy as np\n",
    "import matplotlib.pyplot as plt\n",
    "import scipy.stats as sts\n",
    "%matplotlib inline"
   ]
  },
  {
   "cell_type": "code",
   "execution_count": 19,
   "metadata": {},
   "outputs": [
    {
     "name": "stdout",
     "output_type": "stream",
     "text": [
      "2220.2553035381166 29.780648463402596 1287.0319453902077\n"
     ]
    }
   ],
   "source": [
    "years = 2015 - 1885 + 1\n",
    "avg = 1197.69\n",
    "d = 116182.2\n",
    "\n",
    "t1 =  avg + 3 * np.sqrt(d)\n",
    "sigma = np.sqrt(d/years)\n",
    "t3 = avg + 3 * sigma\n",
    "\n",
    "print t1, sigma, t3\n",
    "def mean_confidence_interval(years, avg, d):\n",
    "    fi = (1 - 0.03/2)\n",
    "    fi = 2.96\n",
    "    \n",
    "    sigma = np.sqrt(d/years)\n",
    "    max = avg + fi * sigma\n",
    "    min = avg - fi * sigma\n",
    "    \n",
    "    return fi, sigma, min, max\n",
    "\n",
    "# print mean_confidence_interval(years, avg, d)\n"
   ]
  },
  {
   "cell_type": "code",
   "execution_count": null,
   "metadata": {},
   "outputs": [],
   "source": []
  }
 ],
 "metadata": {
  "kernelspec": {
   "display_name": "Python 2",
   "language": "python",
   "name": "python2"
  },
  "language_info": {
   "codemirror_mode": {
    "name": "ipython",
    "version": 2
   },
   "file_extension": ".py",
   "mimetype": "text/x-python",
   "name": "python",
   "nbconvert_exporter": "python",
   "pygments_lexer": "ipython2",
   "version": "2.7.16"
  }
 },
 "nbformat": 4,
 "nbformat_minor": 2
}
