{
 "cells": [
  {
   "cell_type": "code",
   "execution_count": 116,
   "metadata": {},
   "outputs": [
    {
     "name": "stdout",
     "output_type": "stream",
     "text": [
      "0.8939966636005579\n"
     ]
    },
    {
     "data": {
      "image/png": "[encoded data removed]",
      "text/plain": [
       "<Figure size 432x288 with 1 Axes>"
      ]
     },
     "metadata": {
      "needs_background": "light"
     },
     "output_type": "display_data"
    }
   ],
   "source": [
    "%matplotlib inline\n",
    "import numpy as np\n",
    "import math\n",
    "import matplotlib.pyplot as plt\n",
    "from scipy import interpolate\n",
    "\n",
    "print np.sin(90)\n",
    "\n",
    "x = np.arange(1, 31, 1.0)\n",
    "def myFunc(x):\n",
    "    return np.sin(x / 5.0) * np.exp(x / 10.0) + 5.0 * np.exp(-x / 2.0)\n",
    "\n",
    "\n",
    "# print x\n",
    "# print y\n",
    "plt.plot(x, myFunc(x))\n",
    "plt.show()\n"
   ]
  },
  {
   "cell_type": "code",
   "execution_count": 117,
   "metadata": {},
   "outputs": [
    {
     "name": "stdout",
     "output_type": "stream",
     "text": [
      "Optimization terminated successfully.\n",
      "         Current function value: -11.898895\n",
      "         Iterations: 17\n",
      "         Function evaluations: 34\n",
      "===========================\n",
      "Optimization terminated successfully.\n",
      "         Current function value: 1.745268\n",
      "         Iterations: 6\n",
      "         Function evaluations: 21\n",
      "         Gradient evaluations: 7\n",
      "1.75\n",
      "===========================\n",
      "Optimization terminated successfully.\n",
      "         Current function value: -11.898895\n",
      "         Iterations: 5\n",
      "         Function evaluations: 18\n",
      "         Gradient evaluations: 6\n",
      "-11.8988946659\n"
     ]
    }
   ],
   "source": [
    "from scipy.optimize import minimize\n",
    "\n",
    "opt1 = minimize(myFunc, x[28], method='nelder-mead', options={'disp': True})\n",
    "print '==========================='\n",
    "opt2 = minimize(myFunc, x[1], method='BFGS', options={'disp': True})\n",
    "print round(opt2.fun, 2)\n",
    "print '==========================='\n",
    "opt3 = minimize(myFunc, x[28], method='BFGS', options={'disp': True})\n",
    "print round(opt3.fun, 100)\n",
    "\n",
    "# 1.75 -11.9\n"
   ]
  },
  {
   "cell_type": "code",
   "execution_count": 118,
   "metadata": {},
   "outputs": [
    {
     "name": "stdout",
     "output_type": "stream",
     "text": [
      "differential_evolution step 1: f(x)= -11.8985\n",
      "differential_evolution step 2: f(x)= -11.8985\n",
      "differential_evolution step 3: f(x)= -11.8985\n",
      "differential_evolution step 4: f(x)= -11.8985\n",
      "differential_evolution step 5: f(x)= -11.8985\n",
      "differential_evolution step 6: f(x)= -11.8986\n",
      "differential_evolution step 7: f(x)= -11.8988\n",
      "     fun: array([-11.89889467])\n",
      "     jac: array([8.8817842e-06])\n",
      " message: 'Optimization terminated successfully.'\n",
      "    nfev: 126L\n",
      "     nit: 7\n",
      " success: True\n",
      "       x: array([25.88020824])\n"
     ]
    }
   ],
   "source": [
    "from scipy.optimize import differential_evolution, rosen\n",
    "# bounds = [(0,2)]\n",
    "bounds = [(5,40)]\n",
    "# result = differential_evolution(rosen, bounds)\n",
    "# result.x, result.fun\n",
    "opt4 = differential_evolution(myFunc, bounds, disp=True)\n",
    "print opt4"
   ]
  },
  {
   "cell_type": "code",
   "execution_count": 161,
   "metadata": {},
   "outputs": [
    {
     "data": {
      "image/png": "[encoded data removed]",
      "text/plain": [
       "<Figure size 432x288 with 1 Axes>"
      ]
     },
     "metadata": {
      "needs_background": "light"
     },
     "output_type": "display_data"
    },
    {
     "name": "stdout",
     "output_type": "stream",
     "text": [
      "Optimization terminated successfully.\n",
      "         Current function value: -2.000000\n",
      "         Iterations: 0\n",
      "         Function evaluations: 3\n",
      "         Gradient evaluations: 1\n",
      "-2.0\n",
      "=============================\n",
      "differential_evolution step 1: f(x)= -11\n",
      "differential_evolution step 2: f(x)= -11\n",
      "differential_evolution step 3: f(x)= -11\n",
      "differential_evolution step 4: f(x)= -11\n",
      "     fun: -11.0\n",
      " message: 'Optimization terminated successfully.'\n",
      "    nfev: 77L\n",
      "     nit: 4\n",
      " success: True\n",
      "       x: array([26.32506888])\n"
     ]
    }
   ],
   "source": [
    "x = np.arange(1, 31, 0.1)\n",
    "def myFuncInt(x):\n",
    "    return ((np.sin(x / 5) * np.exp(x / 10) + 5 * np.exp(-x / 2))).astype(int)\n",
    "    \n",
    "plt.plot(x, myFuncInt(x))\n",
    "plt.show()\n",
    "\n",
    "res1 = minimize(myFuncInt, x[-1], method='BFGS', options={'disp': True})\n",
    "print round(res1.fun, 2)\n",
    "\n",
    "print '============================='\n",
    "bounds = [(1,30)]\n",
    "# result = differential_evolution(rosen, bounds)\n",
    "# result.x, result.fun\n",
    "res2 = differential_evolution(myFuncInt, bounds, disp=True)\n",
    "print res2"
   ]
  }
 ],
 "metadata": {
  "kernelspec": {
   "display_name": "Python 2",
   "language": "python",
   "name": "python2"
  },
  "language_info": {
   "codemirror_mode": {
    "name": "ipython",
    "version": 2
   },
   "file_extension": ".py",
   "mimetype": "text/x-python",
   "name": "python",
   "nbconvert_exporter": "python",
   "pygments_lexer": "ipython2",
   "version": "2.7.16"
  }
 },
 "nbformat": 4,
 "nbformat_minor": 2
}
